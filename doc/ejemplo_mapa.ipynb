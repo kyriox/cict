{
 "cells": [
  {
   "cell_type": "code",
   "execution_count": 10,
   "metadata": {},
   "outputs": [],
   "source": [
    "import pathlib,sys, pandas as pd\n",
    "parent_path=str(pathlib.Path().absolute().parent)\n",
    "if parent_path not in sys.path: sys.path.append(parent_path)\n",
    "import matplotlib.pyplot as plt\n",
    "%matplotlib inline"
   ]
  },
  {
   "cell_type": "code",
   "execution_count": 2,
   "metadata": {},
   "outputs": [],
   "source": [
    "from affinity.clustering import plotMap"
   ]
  },
  {
   "cell_type": "code",
   "execution_count": 3,
   "metadata": {},
   "outputs": [],
   "source": [
    "file_path='../data/data_20200716_035506.csv' # La ruta de los archivos de señales\n",
    "file_units_gps='../data/units_gps.csv' # La ruta del archivo con las coordenadas de casa generador\n",
    "data=pd.read_csv(file_path, sep=',', skiprows=[0], header=None)\n",
    "units=pd.read_csv(file_units_gps)"
   ]
  },
  {
   "cell_type": "code",
   "execution_count": 4,
   "metadata": {},
   "outputs": [
    {
     "data": {
      "text/html": [
       "<div>\n",
       "<style scoped>\n",
       "    .dataframe tbody tr th:only-of-type {\n",
       "        vertical-align: middle;\n",
       "    }\n",
       "\n",
       "    .dataframe tbody tr th {\n",
       "        vertical-align: top;\n",
       "    }\n",
       "\n",
       "    .dataframe thead th {\n",
       "        text-align: right;\n",
       "    }\n",
       "</style>\n",
       "<table border=\"1\" class=\"dataframe\">\n",
       "  <thead>\n",
       "    <tr style=\"text-align: right;\">\n",
       "      <th></th>\n",
       "      <th>0</th>\n",
       "      <th>1</th>\n",
       "      <th>2</th>\n",
       "      <th>3</th>\n",
       "      <th>4</th>\n",
       "      <th>5</th>\n",
       "      <th>6</th>\n",
       "      <th>7</th>\n",
       "      <th>8</th>\n",
       "      <th>9</th>\n",
       "      <th>...</th>\n",
       "      <th>95</th>\n",
       "      <th>96</th>\n",
       "      <th>97</th>\n",
       "      <th>98</th>\n",
       "      <th>99</th>\n",
       "      <th>100</th>\n",
       "      <th>101</th>\n",
       "      <th>102</th>\n",
       "      <th>103</th>\n",
       "      <th>104</th>\n",
       "    </tr>\n",
       "  </thead>\n",
       "  <tbody>\n",
       "    <tr>\n",
       "      <th>0</th>\n",
       "      <td>637304685060000000</td>\n",
       "      <td>60.0079</td>\n",
       "      <td>60.0093</td>\n",
       "      <td>60.0077</td>\n",
       "      <td>60.0099</td>\n",
       "      <td>60.0105</td>\n",
       "      <td>60.0092</td>\n",
       "      <td>60.0083</td>\n",
       "      <td>60.0083</td>\n",
       "      <td>60.0083</td>\n",
       "      <td>...</td>\n",
       "      <td>60.0098</td>\n",
       "      <td>60.0089</td>\n",
       "      <td>60.0093</td>\n",
       "      <td>60.0095</td>\n",
       "      <td>60.0089</td>\n",
       "      <td>60.0096</td>\n",
       "      <td>60.0092</td>\n",
       "      <td>0</td>\n",
       "      <td>0</td>\n",
       "      <td>0</td>\n",
       "    </tr>\n",
       "    <tr>\n",
       "      <th>1</th>\n",
       "      <td>637304685061000000</td>\n",
       "      <td>60.0074</td>\n",
       "      <td>60.0097</td>\n",
       "      <td>60.0101</td>\n",
       "      <td>60.0109</td>\n",
       "      <td>60.0096</td>\n",
       "      <td>60.0093</td>\n",
       "      <td>60.0094</td>\n",
       "      <td>60.0092</td>\n",
       "      <td>60.0092</td>\n",
       "      <td>...</td>\n",
       "      <td>60.0089</td>\n",
       "      <td>60.0092</td>\n",
       "      <td>60.0095</td>\n",
       "      <td>60.0094</td>\n",
       "      <td>60.0084</td>\n",
       "      <td>60.0090</td>\n",
       "      <td>60.0093</td>\n",
       "      <td>0</td>\n",
       "      <td>0</td>\n",
       "      <td>0</td>\n",
       "    </tr>\n",
       "    <tr>\n",
       "      <th>2</th>\n",
       "      <td>637304685062000000</td>\n",
       "      <td>60.0066</td>\n",
       "      <td>60.0108</td>\n",
       "      <td>60.0098</td>\n",
       "      <td>60.0103</td>\n",
       "      <td>60.0100</td>\n",
       "      <td>60.0087</td>\n",
       "      <td>60.0094</td>\n",
       "      <td>60.0093</td>\n",
       "      <td>60.0089</td>\n",
       "      <td>...</td>\n",
       "      <td>60.0096</td>\n",
       "      <td>60.0094</td>\n",
       "      <td>60.0089</td>\n",
       "      <td>60.0080</td>\n",
       "      <td>60.0090</td>\n",
       "      <td>60.0096</td>\n",
       "      <td>60.0095</td>\n",
       "      <td>0</td>\n",
       "      <td>0</td>\n",
       "      <td>0</td>\n",
       "    </tr>\n",
       "    <tr>\n",
       "      <th>3</th>\n",
       "      <td>637304685063000000</td>\n",
       "      <td>60.0094</td>\n",
       "      <td>60.0105</td>\n",
       "      <td>60.0086</td>\n",
       "      <td>60.0108</td>\n",
       "      <td>60.0093</td>\n",
       "      <td>60.0094</td>\n",
       "      <td>60.0098</td>\n",
       "      <td>60.0089</td>\n",
       "      <td>60.0087</td>\n",
       "      <td>...</td>\n",
       "      <td>60.0099</td>\n",
       "      <td>60.0095</td>\n",
       "      <td>60.0091</td>\n",
       "      <td>60.0102</td>\n",
       "      <td>60.0099</td>\n",
       "      <td>60.0097</td>\n",
       "      <td>60.0094</td>\n",
       "      <td>0</td>\n",
       "      <td>0</td>\n",
       "      <td>0</td>\n",
       "    </tr>\n",
       "    <tr>\n",
       "      <th>4</th>\n",
       "      <td>637304685064000000</td>\n",
       "      <td>60.0095</td>\n",
       "      <td>60.0108</td>\n",
       "      <td>60.0095</td>\n",
       "      <td>60.0115</td>\n",
       "      <td>60.0084</td>\n",
       "      <td>60.0099</td>\n",
       "      <td>60.0096</td>\n",
       "      <td>60.0089</td>\n",
       "      <td>60.0085</td>\n",
       "      <td>...</td>\n",
       "      <td>60.0103</td>\n",
       "      <td>60.0091</td>\n",
       "      <td>60.0090</td>\n",
       "      <td>60.0104</td>\n",
       "      <td>60.0091</td>\n",
       "      <td>60.0097</td>\n",
       "      <td>60.0096</td>\n",
       "      <td>0</td>\n",
       "      <td>0</td>\n",
       "      <td>0</td>\n",
       "    </tr>\n",
       "  </tbody>\n",
       "</table>\n",
       "<p>5 rows × 105 columns</p>\n",
       "</div>"
      ],
      "text/plain": [
       "                  0        1        2        3        4        5        6    \\\n",
       "0  637304685060000000  60.0079  60.0093  60.0077  60.0099  60.0105  60.0092   \n",
       "1  637304685061000000  60.0074  60.0097  60.0101  60.0109  60.0096  60.0093   \n",
       "2  637304685062000000  60.0066  60.0108  60.0098  60.0103  60.0100  60.0087   \n",
       "3  637304685063000000  60.0094  60.0105  60.0086  60.0108  60.0093  60.0094   \n",
       "4  637304685064000000  60.0095  60.0108  60.0095  60.0115  60.0084  60.0099   \n",
       "\n",
       "       7        8        9    ...      95       96       97       98   \\\n",
       "0  60.0083  60.0083  60.0083  ...  60.0098  60.0089  60.0093  60.0095   \n",
       "1  60.0094  60.0092  60.0092  ...  60.0089  60.0092  60.0095  60.0094   \n",
       "2  60.0094  60.0093  60.0089  ...  60.0096  60.0094  60.0089  60.0080   \n",
       "3  60.0098  60.0089  60.0087  ...  60.0099  60.0095  60.0091  60.0102   \n",
       "4  60.0096  60.0089  60.0085  ...  60.0103  60.0091  60.0090  60.0104   \n",
       "\n",
       "       99       100      101  102  103  104  \n",
       "0  60.0089  60.0096  60.0092    0    0    0  \n",
       "1  60.0084  60.0090  60.0093    0    0    0  \n",
       "2  60.0090  60.0096  60.0095    0    0    0  \n",
       "3  60.0099  60.0097  60.0094    0    0    0  \n",
       "4  60.0091  60.0097  60.0096    0    0    0  \n",
       "\n",
       "[5 rows x 105 columns]"
      ]
     },
     "execution_count": 4,
     "metadata": {},
     "output_type": "execute_result"
    }
   ],
   "source": [
    "# Para este archivo quito las dos primeras linead del csv de señales\n",
    "data.head()"
   ]
  },
  {
   "cell_type": "code",
   "execution_count": 5,
   "metadata": {},
   "outputs": [
    {
     "data": {
      "text/html": [
       "<div>\n",
       "<style scoped>\n",
       "    .dataframe tbody tr th:only-of-type {\n",
       "        vertical-align: middle;\n",
       "    }\n",
       "\n",
       "    .dataframe tbody tr th {\n",
       "        vertical-align: top;\n",
       "    }\n",
       "\n",
       "    .dataframe thead th {\n",
       "        text-align: right;\n",
       "    }\n",
       "</style>\n",
       "<table border=\"1\" class=\"dataframe\">\n",
       "  <thead>\n",
       "    <tr style=\"text-align: right;\">\n",
       "      <th></th>\n",
       "      <th>FDRid</th>\n",
       "      <th>Longitude</th>\n",
       "      <th>Latitude</th>\n",
       "    </tr>\n",
       "  </thead>\n",
       "  <tbody>\n",
       "    <tr>\n",
       "      <th>0</th>\n",
       "      <td>601</td>\n",
       "      <td>-77.4</td>\n",
       "      <td>37.5</td>\n",
       "    </tr>\n",
       "    <tr>\n",
       "      <th>1</th>\n",
       "      <td>620</td>\n",
       "      <td>-87.9</td>\n",
       "      <td>41.6</td>\n",
       "    </tr>\n",
       "    <tr>\n",
       "      <th>2</th>\n",
       "      <td>621</td>\n",
       "      <td>-83.1</td>\n",
       "      <td>42.4</td>\n",
       "    </tr>\n",
       "    <tr>\n",
       "      <th>3</th>\n",
       "      <td>623</td>\n",
       "      <td>-82.4</td>\n",
       "      <td>27.9</td>\n",
       "    </tr>\n",
       "    <tr>\n",
       "      <th>4</th>\n",
       "      <td>634</td>\n",
       "      <td>-88.5</td>\n",
       "      <td>42.6</td>\n",
       "    </tr>\n",
       "  </tbody>\n",
       "</table>\n",
       "</div>"
      ],
      "text/plain": [
       "   FDRid  Longitude  Latitude\n",
       "0    601      -77.4      37.5\n",
       "1    620      -87.9      41.6\n",
       "2    621      -83.1      42.4\n",
       "3    623      -82.4      27.9\n",
       "4    634      -88.5      42.6"
      ]
     },
     "execution_count": 5,
     "metadata": {},
     "output_type": "execute_result"
    }
   ],
   "source": [
    "units.head()"
   ]
  },
  {
   "cell_type": "code",
   "execution_count": 11,
   "metadata": {},
   "outputs": [],
   "source": [
    "# Para que esto funcione el archivo de señales debe estar en el mismo formato que\n",
    "# el archivo ../data/data_20200716_035506.csv y el de cordenadas gps en el mismo\n",
    "# que ../data/units_gps.csv\n",
    "\n",
    "mapa,tabla=plotMap(file_path,file_units_gps) # regresa el mapa y la tabla "
   ]
  },
  {
   "cell_type": "markdown",
   "metadata": {},
   "source": [
    "**Es muy importate que definamos un formato para los datos de entrada, por usalmente no son muy heterogéneos**"
   ]
  },
  {
   "cell_type": "code",
   "execution_count": 15,
   "metadata": {},
   "outputs": [
    {
     "data": {
      "application/vnd.plotly.v1+json": {
       "config": {
        "plotlyServerURL": "https://plot.ly"
       },
       "data": [
        {
         "geo": "geo",
         "hovertemplate": "<b>%{hovertext}</b><br><br>cluster_id=1431<br>lat=%{lat}<br>lon=%{lon}<extra></extra>",
         "hovertext": [
          "601",
          "774",
          "792",
          "847",
          "945",
          "964",
          "998",
          "1009",
          "1055",
          "1132",
          "1405",
          "1431"
         ],
         "lat": [
          37.5,
          40,
          38.5,
          37.1,
          40.2,
          39.2,
          41,
          35.7,
          40.3,
          41.3,
          40.2,
          38.9
         ],
         "legendgroup": "1431",
         "lon": [
          -77.4,
          -74,
          -75,
          -76.5,
          -74.6,
          -76.7,
          -81.3,
          -78.9,
          -74.1,
          -80.7,
          -76.7,
          -77
         ],
         "marker": {
          "color": "#636efa",
          "symbol": "circle"
         },
         "mode": "markers",
         "name": "1431",
         "showlegend": true,
         "type": "scattergeo"
        },
        {
         "geo": "geo",
         "hovertemplate": "<b>%{hovertext}</b><br><br>cluster_id=1368<br>lat=%{lat}<br>lon=%{lon}<extra></extra>",
         "hovertext": [
          "620",
          "640",
          "686",
          "755",
          "778",
          "797",
          "1066",
          "1368",
          "1398",
          "1401",
          "1410",
          "1443",
          "1444",
          "1497"
         ],
         "lat": [
          41.6,
          42.5,
          37.3,
          40.1,
          39.4,
          40.8,
          39.1,
          42.9,
          39.8,
          42.7,
          42.9,
          42.2,
          42.6,
          39.2
         ],
         "legendgroup": "1368",
         "lon": [
          -87.9,
          -83,
          -79.8,
          -88.3,
          -88.4,
          -86.9,
          -84.2,
          -85.6,
          -86,
          -84.6,
          -85.6,
          -84,
          -83.2,
          -85.9
         ],
         "marker": {
          "color": "#EF553B",
          "symbol": "circle"
         },
         "mode": "markers",
         "name": "1368",
         "showlegend": true,
         "type": "scattergeo"
        },
        {
         "geo": "geo",
         "hovertemplate": "<b>%{hovertext}</b><br><br>cluster_id=1427<br>lat=%{lat}<br>lon=%{lon}<extra></extra>",
         "hovertext": [
          "623",
          "742",
          "899",
          "973",
          "1000",
          "1413",
          "1418",
          "1427",
          "1475"
         ],
         "lat": [
          27.9,
          25.7,
          25,
          28.4,
          25.8,
          26.8,
          29,
          26.3,
          30.2
         ],
         "legendgroup": "1427",
         "lon": [
          -82.4,
          -80.2,
          -80.5,
          -81.4,
          -80.4,
          -80.1,
          -81.9,
          -81.7,
          -81.8
         ],
         "marker": {
          "color": "#00cc96",
          "symbol": "circle"
         },
         "mode": "markers",
         "name": "1427",
         "showlegend": true,
         "type": "scattergeo"
        },
        {
         "geo": "geo",
         "hovertemplate": "<b>%{hovertext}</b><br><br>cluster_id=1399<br>lat=%{lat}<br>lon=%{lon}<extra></extra>",
         "hovertext": [
          "634",
          "714",
          "726",
          "734",
          "777",
          "781",
          "790",
          "874",
          "877",
          "886",
          "915",
          "961",
          "976",
          "1059",
          "1373",
          "1375",
          "1399",
          "1430",
          "1458",
          "1459"
         ],
         "lat": [
          42.6,
          42.4,
          48,
          43.5,
          40.9,
          40.2,
          45.2,
          42.9,
          44,
          39,
          44.8,
          40.7,
          42.9,
          40.9,
          38.7,
          43.1,
          43.7,
          38.4,
          48.2,
          46.7
         ],
         "legendgroup": "1399",
         "lon": [
          -88.5,
          -96.4,
          -103.5,
          -96.8,
          -96.7,
          -92.6,
          -93.6,
          -90,
          -92.9,
          -94.6,
          -87.4,
          -96.7,
          -88.2,
          -90.2,
          -89.9,
          -96.2,
          -94.8,
          -90.9,
          -101.2,
          -100.7
         ],
         "marker": {
          "color": "#ab63fa",
          "symbol": "circle"
         },
         "mode": "markers",
         "name": "1399",
         "showlegend": true,
         "type": "scattergeo"
        },
        {
         "geo": "geo",
         "hovertemplate": "<b>%{hovertext}</b><br><br>cluster_id=1608<br>lat=%{lat}<br>lon=%{lon}<extra></extra>",
         "hovertext": [
          "647",
          "749",
          "787",
          "969",
          "980",
          "1370",
          "1374",
          "1407",
          "1416",
          "1445",
          "1608"
         ],
         "lat": [
          34.7,
          37.2,
          36.3,
          38,
          31.3,
          35.4,
          35.4,
          32.3,
          37.9,
          35.2,
          34.7
         ],
         "legendgroup": "1608",
         "lon": [
          -92.4,
          -89.5,
          -88.9,
          -93.7,
          -89.6,
          -94.2,
          -97.6,
          -90.3,
          -91.7,
          -97.4,
          -92.4
         ],
         "marker": {
          "color": "#FFA15A",
          "symbol": "circle"
         },
         "mode": "markers",
         "name": "1608",
         "showlegend": true,
         "type": "scattergeo"
        },
        {
         "geo": "geo",
         "hovertemplate": "<b>%{hovertext}</b><br><br>cluster_id=984<br>lat=%{lat}<br>lon=%{lon}<extra></extra>",
         "hovertext": [
          "673",
          "762",
          "767",
          "873",
          "891",
          "931",
          "936",
          "984",
          "1013",
          "1069",
          "1071",
          "1135",
          "1417",
          "1454",
          "2009",
          "1605"
         ],
         "lat": [
          32.4,
          32.7,
          37.7,
          33.8,
          35.7,
          33.4,
          35,
          34,
          30.4,
          35,
          35.8,
          31.9,
          30.7,
          35.7,
          34.1,
          35
         ],
         "legendgroup": "984",
         "lon": [
          -86.3,
          -80.1,
          -88.9,
          -84.4,
          -78.7,
          -81.8,
          -85.2,
          -83.9,
          -84.2,
          -85.2,
          -83.9,
          -81.3,
          -83.4,
          -84.3,
          -84.1,
          -85.2
         ],
         "marker": {
          "color": "#19d3f3",
          "symbol": "circle"
         },
         "mode": "markers",
         "name": "984",
         "showlegend": true,
         "type": "scattergeo"
        },
        {
         "geo": "geo",
         "hovertemplate": "<b>%{hovertext}</b><br><br>cluster_id=682<br>lat=%{lat}<br>lon=%{lon}<extra></extra>",
         "hovertext": [
          "682",
          "684",
          "859",
          "881",
          "960",
          "1030",
          "1126",
          "1434"
         ],
         "lat": [
          42.2,
          42.2,
          41.7,
          44.5,
          41.6,
          41.2,
          42.9,
          43.1
         ],
         "legendgroup": "682",
         "lon": [
          -72.5,
          -71.3,
          -72.3,
          -72.7,
          -70.5,
          -73.5,
          -72.6,
          -70.5
         ],
         "marker": {
          "color": "#FF6692",
          "symbol": "circle"
         },
         "mode": "markers",
         "name": "682",
         "showlegend": true,
         "type": "scattergeo"
        },
        {
         "geo": "geo",
         "hovertemplate": "<b>%{hovertext}</b><br><br>cluster_id=826<br>lat=%{lat}<br>lon=%{lon}<extra></extra>",
         "hovertext": [
          "826",
          "843",
          "892",
          "953",
          "985",
          "1364",
          "1406",
          "1436"
         ],
         "lat": [
          43.1,
          42.1,
          42.7,
          45.3,
          43.1,
          40.7,
          42.7,
          43.2
         ],
         "legendgroup": "826",
         "lon": [
          -76,
          -75.9,
          -73.7,
          -75.3,
          -77.4,
          -73.9,
          -73.9,
          -79
         ],
         "marker": {
          "color": "#B6E880",
          "symbol": "circle"
         },
         "mode": "markers",
         "name": "826",
         "showlegend": true,
         "type": "scattergeo"
        },
        {
         "geo": "geo",
         "hovertemplate": "<b>%{hovertext}</b><br><br>cluster_id=3001<br>lat=%{lat}<br>lon=%{lon}<extra></extra>",
         "hovertext": [
          "3001"
         ],
         "lat": [
          52
         ],
         "legendgroup": "3001",
         "lon": [
          -106.5
         ],
         "marker": {
          "color": "#FF97FF",
          "symbol": "circle"
         },
         "mode": "markers",
         "name": "3001",
         "showlegend": true,
         "type": "scattergeo"
        },
        {
         "geo": "geo",
         "hovertemplate": "<b>%{hovertext}</b><br><br>cluster_id=1391<br>lat=%{lat}<br>lon=%{lon}<extra></extra>",
         "hovertext": [
          "1391"
         ],
         "lat": [
          35.1
         ],
         "legendgroup": "1391",
         "lon": [
          -85.2
         ],
         "marker": {
          "color": "#FECB52",
          "symbol": "circle"
         },
         "mode": "markers",
         "name": "1391",
         "showlegend": true,
         "type": "scattergeo"
        }
       ],
       "layout": {
        "geo": {
         "center": {},
         "domain": {
          "x": [
           0,
           1
          ],
          "y": [
           0,
           1
          ]
         },
         "lataxis": {
          "range": [
           23,
           55
          ]
         },
         "lonaxis": {
          "range": [
           -110,
           -62
          ]
         }
        },
        "legend": {
         "title": {
          "text": "cluster_id"
         },
         "tracegroupgap": 0
        },
        "margin": {
         "t": 60
        },
        "template": {
         "data": {
          "bar": [
           {
            "error_x": {
             "color": "#2a3f5f"
            },
            "error_y": {
             "color": "#2a3f5f"
            },
            "marker": {
             "line": {
              "color": "#E5ECF6",
              "width": 0.5
             }
            },
            "type": "bar"
           }
          ],
          "barpolar": [
           {
            "marker": {
             "line": {
              "color": "#E5ECF6",
              "width": 0.5
             }
            },
            "type": "barpolar"
           }
          ],
          "carpet": [
           {
            "aaxis": {
             "endlinecolor": "#2a3f5f",
             "gridcolor": "white",
             "linecolor": "white",
             "minorgridcolor": "white",
             "startlinecolor": "#2a3f5f"
            },
            "baxis": {
             "endlinecolor": "#2a3f5f",
             "gridcolor": "white",
             "linecolor": "white",
             "minorgridcolor": "white",
             "startlinecolor": "#2a3f5f"
            },
            "type": "carpet"
           }
          ],
          "choropleth": [
           {
            "colorbar": {
             "outlinewidth": 0,
             "ticks": ""
            },
            "type": "choropleth"
           }
          ],
          "contour": [
           {
            "colorbar": {
             "outlinewidth": 0,
             "ticks": ""
            },
            "colorscale": [
             [
              0,
              "#0d0887"
             ],
             [
              0.1111111111111111,
              "#46039f"
             ],
             [
              0.2222222222222222,
              "#7201a8"
             ],
             [
              0.3333333333333333,
              "#9c179e"
             ],
             [
              0.4444444444444444,
              "#bd3786"
             ],
             [
              0.5555555555555556,
              "#d8576b"
             ],
             [
              0.6666666666666666,
              "#ed7953"
             ],
             [
              0.7777777777777778,
              "#fb9f3a"
             ],
             [
              0.8888888888888888,
              "#fdca26"
             ],
             [
              1,
              "#f0f921"
             ]
            ],
            "type": "contour"
           }
          ],
          "contourcarpet": [
           {
            "colorbar": {
             "outlinewidth": 0,
             "ticks": ""
            },
            "type": "contourcarpet"
           }
          ],
          "heatmap": [
           {
            "colorbar": {
             "outlinewidth": 0,
             "ticks": ""
            },
            "colorscale": [
             [
              0,
              "#0d0887"
             ],
             [
              0.1111111111111111,
              "#46039f"
             ],
             [
              0.2222222222222222,
              "#7201a8"
             ],
             [
              0.3333333333333333,
              "#9c179e"
             ],
             [
              0.4444444444444444,
              "#bd3786"
             ],
             [
              0.5555555555555556,
              "#d8576b"
             ],
             [
              0.6666666666666666,
              "#ed7953"
             ],
             [
              0.7777777777777778,
              "#fb9f3a"
             ],
             [
              0.8888888888888888,
              "#fdca26"
             ],
             [
              1,
              "#f0f921"
             ]
            ],
            "type": "heatmap"
           }
          ],
          "heatmapgl": [
           {
            "colorbar": {
             "outlinewidth": 0,
             "ticks": ""
            },
            "colorscale": [
             [
              0,
              "#0d0887"
             ],
             [
              0.1111111111111111,
              "#46039f"
             ],
             [
              0.2222222222222222,
              "#7201a8"
             ],
             [
              0.3333333333333333,
              "#9c179e"
             ],
             [
              0.4444444444444444,
              "#bd3786"
             ],
             [
              0.5555555555555556,
              "#d8576b"
             ],
             [
              0.6666666666666666,
              "#ed7953"
             ],
             [
              0.7777777777777778,
              "#fb9f3a"
             ],
             [
              0.8888888888888888,
              "#fdca26"
             ],
             [
              1,
              "#f0f921"
             ]
            ],
            "type": "heatmapgl"
           }
          ],
          "histogram": [
           {
            "marker": {
             "colorbar": {
              "outlinewidth": 0,
              "ticks": ""
             }
            },
            "type": "histogram"
           }
          ],
          "histogram2d": [
           {
            "colorbar": {
             "outlinewidth": 0,
             "ticks": ""
            },
            "colorscale": [
             [
              0,
              "#0d0887"
             ],
             [
              0.1111111111111111,
              "#46039f"
             ],
             [
              0.2222222222222222,
              "#7201a8"
             ],
             [
              0.3333333333333333,
              "#9c179e"
             ],
             [
              0.4444444444444444,
              "#bd3786"
             ],
             [
              0.5555555555555556,
              "#d8576b"
             ],
             [
              0.6666666666666666,
              "#ed7953"
             ],
             [
              0.7777777777777778,
              "#fb9f3a"
             ],
             [
              0.8888888888888888,
              "#fdca26"
             ],
             [
              1,
              "#f0f921"
             ]
            ],
            "type": "histogram2d"
           }
          ],
          "histogram2dcontour": [
           {
            "colorbar": {
             "outlinewidth": 0,
             "ticks": ""
            },
            "colorscale": [
             [
              0,
              "#0d0887"
             ],
             [
              0.1111111111111111,
              "#46039f"
             ],
             [
              0.2222222222222222,
              "#7201a8"
             ],
             [
              0.3333333333333333,
              "#9c179e"
             ],
             [
              0.4444444444444444,
              "#bd3786"
             ],
             [
              0.5555555555555556,
              "#d8576b"
             ],
             [
              0.6666666666666666,
              "#ed7953"
             ],
             [
              0.7777777777777778,
              "#fb9f3a"
             ],
             [
              0.8888888888888888,
              "#fdca26"
             ],
             [
              1,
              "#f0f921"
             ]
            ],
            "type": "histogram2dcontour"
           }
          ],
          "mesh3d": [
           {
            "colorbar": {
             "outlinewidth": 0,
             "ticks": ""
            },
            "type": "mesh3d"
           }
          ],
          "parcoords": [
           {
            "line": {
             "colorbar": {
              "outlinewidth": 0,
              "ticks": ""
             }
            },
            "type": "parcoords"
           }
          ],
          "pie": [
           {
            "automargin": true,
            "type": "pie"
           }
          ],
          "scatter": [
           {
            "marker": {
             "colorbar": {
              "outlinewidth": 0,
              "ticks": ""
             }
            },
            "type": "scatter"
           }
          ],
          "scatter3d": [
           {
            "line": {
             "colorbar": {
              "outlinewidth": 0,
              "ticks": ""
             }
            },
            "marker": {
             "colorbar": {
              "outlinewidth": 0,
              "ticks": ""
             }
            },
            "type": "scatter3d"
           }
          ],
          "scattercarpet": [
           {
            "marker": {
             "colorbar": {
              "outlinewidth": 0,
              "ticks": ""
             }
            },
            "type": "scattercarpet"
           }
          ],
          "scattergeo": [
           {
            "marker": {
             "colorbar": {
              "outlinewidth": 0,
              "ticks": ""
             }
            },
            "type": "scattergeo"
           }
          ],
          "scattergl": [
           {
            "marker": {
             "colorbar": {
              "outlinewidth": 0,
              "ticks": ""
             }
            },
            "type": "scattergl"
           }
          ],
          "scattermapbox": [
           {
            "marker": {
             "colorbar": {
              "outlinewidth": 0,
              "ticks": ""
             }
            },
            "type": "scattermapbox"
           }
          ],
          "scatterpolar": [
           {
            "marker": {
             "colorbar": {
              "outlinewidth": 0,
              "ticks": ""
             }
            },
            "type": "scatterpolar"
           }
          ],
          "scatterpolargl": [
           {
            "marker": {
             "colorbar": {
              "outlinewidth": 0,
              "ticks": ""
             }
            },
            "type": "scatterpolargl"
           }
          ],
          "scatterternary": [
           {
            "marker": {
             "colorbar": {
              "outlinewidth": 0,
              "ticks": ""
             }
            },
            "type": "scatterternary"
           }
          ],
          "surface": [
           {
            "colorbar": {
             "outlinewidth": 0,
             "ticks": ""
            },
            "colorscale": [
             [
              0,
              "#0d0887"
             ],
             [
              0.1111111111111111,
              "#46039f"
             ],
             [
              0.2222222222222222,
              "#7201a8"
             ],
             [
              0.3333333333333333,
              "#9c179e"
             ],
             [
              0.4444444444444444,
              "#bd3786"
             ],
             [
              0.5555555555555556,
              "#d8576b"
             ],
             [
              0.6666666666666666,
              "#ed7953"
             ],
             [
              0.7777777777777778,
              "#fb9f3a"
             ],
             [
              0.8888888888888888,
              "#fdca26"
             ],
             [
              1,
              "#f0f921"
             ]
            ],
            "type": "surface"
           }
          ],
          "table": [
           {
            "cells": {
             "fill": {
              "color": "#EBF0F8"
             },
             "line": {
              "color": "white"
             }
            },
            "header": {
             "fill": {
              "color": "#C8D4E3"
             },
             "line": {
              "color": "white"
             }
            },
            "type": "table"
           }
          ]
         },
         "layout": {
          "annotationdefaults": {
           "arrowcolor": "#2a3f5f",
           "arrowhead": 0,
           "arrowwidth": 1
          },
          "coloraxis": {
           "colorbar": {
            "outlinewidth": 0,
            "ticks": ""
           }
          },
          "colorscale": {
           "diverging": [
            [
             0,
             "#8e0152"
            ],
            [
             0.1,
             "#c51b7d"
            ],
            [
             0.2,
             "#de77ae"
            ],
            [
             0.3,
             "#f1b6da"
            ],
            [
             0.4,
             "#fde0ef"
            ],
            [
             0.5,
             "#f7f7f7"
            ],
            [
             0.6,
             "#e6f5d0"
            ],
            [
             0.7,
             "#b8e186"
            ],
            [
             0.8,
             "#7fbc41"
            ],
            [
             0.9,
             "#4d9221"
            ],
            [
             1,
             "#276419"
            ]
           ],
           "sequential": [
            [
             0,
             "#0d0887"
            ],
            [
             0.1111111111111111,
             "#46039f"
            ],
            [
             0.2222222222222222,
             "#7201a8"
            ],
            [
             0.3333333333333333,
             "#9c179e"
            ],
            [
             0.4444444444444444,
             "#bd3786"
            ],
            [
             0.5555555555555556,
             "#d8576b"
            ],
            [
             0.6666666666666666,
             "#ed7953"
            ],
            [
             0.7777777777777778,
             "#fb9f3a"
            ],
            [
             0.8888888888888888,
             "#fdca26"
            ],
            [
             1,
             "#f0f921"
            ]
           ],
           "sequentialminus": [
            [
             0,
             "#0d0887"
            ],
            [
             0.1111111111111111,
             "#46039f"
            ],
            [
             0.2222222222222222,
             "#7201a8"
            ],
            [
             0.3333333333333333,
             "#9c179e"
            ],
            [
             0.4444444444444444,
             "#bd3786"
            ],
            [
             0.5555555555555556,
             "#d8576b"
            ],
            [
             0.6666666666666666,
             "#ed7953"
            ],
            [
             0.7777777777777778,
             "#fb9f3a"
            ],
            [
             0.8888888888888888,
             "#fdca26"
            ],
            [
             1,
             "#f0f921"
            ]
           ]
          },
          "colorway": [
           "#636efa",
           "#EF553B",
           "#00cc96",
           "#ab63fa",
           "#FFA15A",
           "#19d3f3",
           "#FF6692",
           "#B6E880",
           "#FF97FF",
           "#FECB52"
          ],
          "font": {
           "color": "#2a3f5f"
          },
          "geo": {
           "bgcolor": "white",
           "lakecolor": "white",
           "landcolor": "#E5ECF6",
           "showlakes": true,
           "showland": true,
           "subunitcolor": "white"
          },
          "hoverlabel": {
           "align": "left"
          },
          "hovermode": "closest",
          "mapbox": {
           "style": "light"
          },
          "paper_bgcolor": "white",
          "plot_bgcolor": "#E5ECF6",
          "polar": {
           "angularaxis": {
            "gridcolor": "white",
            "linecolor": "white",
            "ticks": ""
           },
           "bgcolor": "#E5ECF6",
           "radialaxis": {
            "gridcolor": "white",
            "linecolor": "white",
            "ticks": ""
           }
          },
          "scene": {
           "xaxis": {
            "backgroundcolor": "#E5ECF6",
            "gridcolor": "white",
            "gridwidth": 2,
            "linecolor": "white",
            "showbackground": true,
            "ticks": "",
            "zerolinecolor": "white"
           },
           "yaxis": {
            "backgroundcolor": "#E5ECF6",
            "gridcolor": "white",
            "gridwidth": 2,
            "linecolor": "white",
            "showbackground": true,
            "ticks": "",
            "zerolinecolor": "white"
           },
           "zaxis": {
            "backgroundcolor": "#E5ECF6",
            "gridcolor": "white",
            "gridwidth": 2,
            "linecolor": "white",
            "showbackground": true,
            "ticks": "",
            "zerolinecolor": "white"
           }
          },
          "shapedefaults": {
           "line": {
            "color": "#2a3f5f"
           }
          },
          "ternary": {
           "aaxis": {
            "gridcolor": "white",
            "linecolor": "white",
            "ticks": ""
           },
           "baxis": {
            "gridcolor": "white",
            "linecolor": "white",
            "ticks": ""
           },
           "bgcolor": "#E5ECF6",
           "caxis": {
            "gridcolor": "white",
            "linecolor": "white",
            "ticks": ""
           }
          },
          "title": {
           "x": 0.05
          },
          "xaxis": {
           "automargin": true,
           "gridcolor": "white",
           "linecolor": "white",
           "ticks": "",
           "title": {
            "standoff": 15
           },
           "zerolinecolor": "white",
           "zerolinewidth": 2
          },
          "yaxis": {
           "automargin": true,
           "gridcolor": "white",
           "linecolor": "white",
           "ticks": "",
           "title": {
            "standoff": 15
           },
           "zerolinecolor": "white",
           "zerolinewidth": 2
          }
         }
        }
       }
      },
      "text/html": [
       "<div>                            <div id=\"0d2fda6b-695e-431b-addb-5864adc53964\" class=\"plotly-graph-div\" style=\"height:525px; width:100%;\"></div>            <script type=\"text/javascript\">                require([\"plotly\"], function(Plotly) {                    window.PLOTLYENV=window.PLOTLYENV || {};                                    if (document.getElementById(\"0d2fda6b-695e-431b-addb-5864adc53964\")) {                    Plotly.newPlot(                        \"0d2fda6b-695e-431b-addb-5864adc53964\",                        [{\"geo\": \"geo\", \"hovertemplate\": \"<b>%{hovertext}</b><br><br>cluster_id=1431<br>lat=%{lat}<br>lon=%{lon}<extra></extra>\", \"hovertext\": [\"601\", \"774\", \"792\", \"847\", \"945\", \"964\", \"998\", \"1009\", \"1055\", \"1132\", \"1405\", \"1431\"], \"lat\": [37.5, 40.0, 38.5, 37.1, 40.2, 39.2, 41.0, 35.7, 40.3, 41.3, 40.2, 38.9], \"legendgroup\": \"1431\", \"lon\": [-77.4, -74.0, -75.0, -76.5, -74.6, -76.7, -81.3, -78.9, -74.1, -80.7, -76.7, -77.0], \"marker\": {\"color\": \"#636efa\", \"symbol\": \"circle\"}, \"mode\": \"markers\", \"name\": \"1431\", \"showlegend\": true, \"type\": \"scattergeo\"}, {\"geo\": \"geo\", \"hovertemplate\": \"<b>%{hovertext}</b><br><br>cluster_id=1368<br>lat=%{lat}<br>lon=%{lon}<extra></extra>\", \"hovertext\": [\"620\", \"640\", \"686\", \"755\", \"778\", \"797\", \"1066\", \"1368\", \"1398\", \"1401\", \"1410\", \"1443\", \"1444\", \"1497\"], \"lat\": [41.6, 42.5, 37.3, 40.1, 39.4, 40.8, 39.1, 42.9, 39.8, 42.7, 42.9, 42.2, 42.6, 39.2], \"legendgroup\": \"1368\", \"lon\": [-87.9, -83.0, -79.8, -88.3, -88.4, -86.9, -84.2, -85.6, -86.0, -84.6, -85.6, -84.0, -83.2, -85.9], \"marker\": {\"color\": \"#EF553B\", \"symbol\": \"circle\"}, \"mode\": \"markers\", \"name\": \"1368\", \"showlegend\": true, \"type\": \"scattergeo\"}, {\"geo\": \"geo\", \"hovertemplate\": \"<b>%{hovertext}</b><br><br>cluster_id=1427<br>lat=%{lat}<br>lon=%{lon}<extra></extra>\", \"hovertext\": [\"623\", \"742\", \"899\", \"973\", \"1000\", \"1413\", \"1418\", \"1427\", \"1475\"], \"lat\": [27.9, 25.7, 25.0, 28.4, 25.8, 26.8, 29.0, 26.3, 30.2], \"legendgroup\": \"1427\", \"lon\": [-82.4, -80.2, -80.5, -81.4, -80.4, -80.1, -81.9, -81.7, -81.8], \"marker\": {\"color\": \"#00cc96\", \"symbol\": \"circle\"}, \"mode\": \"markers\", \"name\": \"1427\", \"showlegend\": true, \"type\": \"scattergeo\"}, {\"geo\": \"geo\", \"hovertemplate\": \"<b>%{hovertext}</b><br><br>cluster_id=1399<br>lat=%{lat}<br>lon=%{lon}<extra></extra>\", \"hovertext\": [\"634\", \"714\", \"726\", \"734\", \"777\", \"781\", \"790\", \"874\", \"877\", \"886\", \"915\", \"961\", \"976\", \"1059\", \"1373\", \"1375\", \"1399\", \"1430\", \"1458\", \"1459\"], \"lat\": [42.6, 42.4, 48.0, 43.5, 40.9, 40.2, 45.2, 42.9, 44.0, 39.0, 44.8, 40.7, 42.9, 40.9, 38.7, 43.1, 43.7, 38.4, 48.2, 46.7], \"legendgroup\": \"1399\", \"lon\": [-88.5, -96.4, -103.5, -96.8, -96.7, -92.6, -93.6, -90.0, -92.9, -94.6, -87.4, -96.7, -88.2, -90.2, -89.9, -96.2, -94.8, -90.9, -101.2, -100.7], \"marker\": {\"color\": \"#ab63fa\", \"symbol\": \"circle\"}, \"mode\": \"markers\", \"name\": \"1399\", \"showlegend\": true, \"type\": \"scattergeo\"}, {\"geo\": \"geo\", \"hovertemplate\": \"<b>%{hovertext}</b><br><br>cluster_id=1608<br>lat=%{lat}<br>lon=%{lon}<extra></extra>\", \"hovertext\": [\"647\", \"749\", \"787\", \"969\", \"980\", \"1370\", \"1374\", \"1407\", \"1416\", \"1445\", \"1608\"], \"lat\": [34.7, 37.2, 36.3, 38.0, 31.3, 35.4, 35.4, 32.3, 37.9, 35.2, 34.7], \"legendgroup\": \"1608\", \"lon\": [-92.4, -89.5, -88.9, -93.7, -89.6, -94.2, -97.6, -90.3, -91.7, -97.4, -92.4], \"marker\": {\"color\": \"#FFA15A\", \"symbol\": \"circle\"}, \"mode\": \"markers\", \"name\": \"1608\", \"showlegend\": true, \"type\": \"scattergeo\"}, {\"geo\": \"geo\", \"hovertemplate\": \"<b>%{hovertext}</b><br><br>cluster_id=984<br>lat=%{lat}<br>lon=%{lon}<extra></extra>\", \"hovertext\": [\"673\", \"762\", \"767\", \"873\", \"891\", \"931\", \"936\", \"984\", \"1013\", \"1069\", \"1071\", \"1135\", \"1417\", \"1454\", \"2009\", \"1605\"], \"lat\": [32.4, 32.7, 37.7, 33.8, 35.7, 33.4, 35.0, 34.0, 30.4, 35.0, 35.8, 31.9, 30.7, 35.7, 34.1, 35.0], \"legendgroup\": \"984\", \"lon\": [-86.3, -80.1, -88.9, -84.4, -78.7, -81.8, -85.2, -83.9, -84.2, -85.2, -83.9, -81.3, -83.4, -84.3, -84.1, -85.2], \"marker\": {\"color\": \"#19d3f3\", \"symbol\": \"circle\"}, \"mode\": \"markers\", \"name\": \"984\", \"showlegend\": true, \"type\": \"scattergeo\"}, {\"geo\": \"geo\", \"hovertemplate\": \"<b>%{hovertext}</b><br><br>cluster_id=682<br>lat=%{lat}<br>lon=%{lon}<extra></extra>\", \"hovertext\": [\"682\", \"684\", \"859\", \"881\", \"960\", \"1030\", \"1126\", \"1434\"], \"lat\": [42.2, 42.2, 41.7, 44.5, 41.6, 41.2, 42.9, 43.1], \"legendgroup\": \"682\", \"lon\": [-72.5, -71.3, -72.3, -72.7, -70.5, -73.5, -72.6, -70.5], \"marker\": {\"color\": \"#FF6692\", \"symbol\": \"circle\"}, \"mode\": \"markers\", \"name\": \"682\", \"showlegend\": true, \"type\": \"scattergeo\"}, {\"geo\": \"geo\", \"hovertemplate\": \"<b>%{hovertext}</b><br><br>cluster_id=826<br>lat=%{lat}<br>lon=%{lon}<extra></extra>\", \"hovertext\": [\"826\", \"843\", \"892\", \"953\", \"985\", \"1364\", \"1406\", \"1436\"], \"lat\": [43.1, 42.1, 42.7, 45.3, 43.1, 40.7, 42.7, 43.2], \"legendgroup\": \"826\", \"lon\": [-76.0, -75.9, -73.7, -75.3, -77.4, -73.9, -73.9, -79.0], \"marker\": {\"color\": \"#B6E880\", \"symbol\": \"circle\"}, \"mode\": \"markers\", \"name\": \"826\", \"showlegend\": true, \"type\": \"scattergeo\"}, {\"geo\": \"geo\", \"hovertemplate\": \"<b>%{hovertext}</b><br><br>cluster_id=3001<br>lat=%{lat}<br>lon=%{lon}<extra></extra>\", \"hovertext\": [\"3001\"], \"lat\": [52.0], \"legendgroup\": \"3001\", \"lon\": [-106.5], \"marker\": {\"color\": \"#FF97FF\", \"symbol\": \"circle\"}, \"mode\": \"markers\", \"name\": \"3001\", \"showlegend\": true, \"type\": \"scattergeo\"}, {\"geo\": \"geo\", \"hovertemplate\": \"<b>%{hovertext}</b><br><br>cluster_id=1391<br>lat=%{lat}<br>lon=%{lon}<extra></extra>\", \"hovertext\": [\"1391\"], \"lat\": [35.1], \"legendgroup\": \"1391\", \"lon\": [-85.2], \"marker\": {\"color\": \"#FECB52\", \"symbol\": \"circle\"}, \"mode\": \"markers\", \"name\": \"1391\", \"showlegend\": true, \"type\": \"scattergeo\"}],                        {\"geo\": {\"center\": {}, \"domain\": {\"x\": [0.0, 1.0], \"y\": [0.0, 1.0]}, \"lataxis\": {\"range\": [23, 55]}, \"lonaxis\": {\"range\": [-110, -62]}}, \"legend\": {\"title\": {\"text\": \"cluster_id\"}, \"tracegroupgap\": 0}, \"margin\": {\"t\": 60}, \"template\": {\"data\": {\"bar\": [{\"error_x\": {\"color\": \"#2a3f5f\"}, \"error_y\": {\"color\": \"#2a3f5f\"}, \"marker\": {\"line\": {\"color\": \"#E5ECF6\", \"width\": 0.5}}, \"type\": \"bar\"}], \"barpolar\": [{\"marker\": {\"line\": {\"color\": \"#E5ECF6\", \"width\": 0.5}}, \"type\": \"barpolar\"}], \"carpet\": [{\"aaxis\": {\"endlinecolor\": \"#2a3f5f\", \"gridcolor\": \"white\", \"linecolor\": \"white\", \"minorgridcolor\": \"white\", \"startlinecolor\": \"#2a3f5f\"}, \"baxis\": {\"endlinecolor\": \"#2a3f5f\", \"gridcolor\": \"white\", \"linecolor\": \"white\", \"minorgridcolor\": \"white\", \"startlinecolor\": \"#2a3f5f\"}, \"type\": \"carpet\"}], \"choropleth\": [{\"colorbar\": {\"outlinewidth\": 0, \"ticks\": \"\"}, \"type\": \"choropleth\"}], \"contour\": [{\"colorbar\": {\"outlinewidth\": 0, \"ticks\": \"\"}, \"colorscale\": [[0.0, \"#0d0887\"], [0.1111111111111111, \"#46039f\"], [0.2222222222222222, \"#7201a8\"], [0.3333333333333333, \"#9c179e\"], [0.4444444444444444, \"#bd3786\"], [0.5555555555555556, \"#d8576b\"], [0.6666666666666666, \"#ed7953\"], [0.7777777777777778, \"#fb9f3a\"], [0.8888888888888888, \"#fdca26\"], [1.0, \"#f0f921\"]], \"type\": \"contour\"}], \"contourcarpet\": [{\"colorbar\": {\"outlinewidth\": 0, \"ticks\": \"\"}, \"type\": \"contourcarpet\"}], \"heatmap\": [{\"colorbar\": {\"outlinewidth\": 0, \"ticks\": \"\"}, \"colorscale\": [[0.0, \"#0d0887\"], [0.1111111111111111, \"#46039f\"], [0.2222222222222222, \"#7201a8\"], [0.3333333333333333, \"#9c179e\"], [0.4444444444444444, \"#bd3786\"], [0.5555555555555556, \"#d8576b\"], [0.6666666666666666, \"#ed7953\"], [0.7777777777777778, \"#fb9f3a\"], [0.8888888888888888, \"#fdca26\"], [1.0, \"#f0f921\"]], \"type\": \"heatmap\"}], \"heatmapgl\": [{\"colorbar\": {\"outlinewidth\": 0, \"ticks\": \"\"}, \"colorscale\": [[0.0, \"#0d0887\"], [0.1111111111111111, \"#46039f\"], [0.2222222222222222, \"#7201a8\"], [0.3333333333333333, \"#9c179e\"], [0.4444444444444444, \"#bd3786\"], [0.5555555555555556, \"#d8576b\"], [0.6666666666666666, \"#ed7953\"], [0.7777777777777778, \"#fb9f3a\"], [0.8888888888888888, \"#fdca26\"], [1.0, \"#f0f921\"]], \"type\": \"heatmapgl\"}], \"histogram\": [{\"marker\": {\"colorbar\": {\"outlinewidth\": 0, \"ticks\": \"\"}}, \"type\": \"histogram\"}], \"histogram2d\": [{\"colorbar\": {\"outlinewidth\": 0, \"ticks\": \"\"}, \"colorscale\": [[0.0, \"#0d0887\"], [0.1111111111111111, \"#46039f\"], [0.2222222222222222, \"#7201a8\"], [0.3333333333333333, \"#9c179e\"], [0.4444444444444444, \"#bd3786\"], [0.5555555555555556, \"#d8576b\"], [0.6666666666666666, \"#ed7953\"], [0.7777777777777778, \"#fb9f3a\"], [0.8888888888888888, \"#fdca26\"], [1.0, \"#f0f921\"]], \"type\": \"histogram2d\"}], \"histogram2dcontour\": [{\"colorbar\": {\"outlinewidth\": 0, \"ticks\": \"\"}, \"colorscale\": [[0.0, \"#0d0887\"], [0.1111111111111111, \"#46039f\"], [0.2222222222222222, \"#7201a8\"], [0.3333333333333333, \"#9c179e\"], [0.4444444444444444, \"#bd3786\"], [0.5555555555555556, \"#d8576b\"], [0.6666666666666666, \"#ed7953\"], [0.7777777777777778, \"#fb9f3a\"], [0.8888888888888888, \"#fdca26\"], [1.0, \"#f0f921\"]], \"type\": \"histogram2dcontour\"}], \"mesh3d\": [{\"colorbar\": {\"outlinewidth\": 0, \"ticks\": \"\"}, \"type\": \"mesh3d\"}], \"parcoords\": [{\"line\": {\"colorbar\": {\"outlinewidth\": 0, \"ticks\": \"\"}}, \"type\": \"parcoords\"}], \"pie\": [{\"automargin\": true, \"type\": \"pie\"}], \"scatter\": [{\"marker\": {\"colorbar\": {\"outlinewidth\": 0, \"ticks\": \"\"}}, \"type\": \"scatter\"}], \"scatter3d\": [{\"line\": {\"colorbar\": {\"outlinewidth\": 0, \"ticks\": \"\"}}, \"marker\": {\"colorbar\": {\"outlinewidth\": 0, \"ticks\": \"\"}}, \"type\": \"scatter3d\"}], \"scattercarpet\": [{\"marker\": {\"colorbar\": {\"outlinewidth\": 0, \"ticks\": \"\"}}, \"type\": \"scattercarpet\"}], \"scattergeo\": [{\"marker\": {\"colorbar\": {\"outlinewidth\": 0, \"ticks\": \"\"}}, \"type\": \"scattergeo\"}], \"scattergl\": [{\"marker\": {\"colorbar\": {\"outlinewidth\": 0, \"ticks\": \"\"}}, \"type\": \"scattergl\"}], \"scattermapbox\": [{\"marker\": {\"colorbar\": {\"outlinewidth\": 0, \"ticks\": \"\"}}, \"type\": \"scattermapbox\"}], \"scatterpolar\": [{\"marker\": {\"colorbar\": {\"outlinewidth\": 0, \"ticks\": \"\"}}, \"type\": \"scatterpolar\"}], \"scatterpolargl\": [{\"marker\": {\"colorbar\": {\"outlinewidth\": 0, \"ticks\": \"\"}}, \"type\": \"scatterpolargl\"}], \"scatterternary\": [{\"marker\": {\"colorbar\": {\"outlinewidth\": 0, \"ticks\": \"\"}}, \"type\": \"scatterternary\"}], \"surface\": [{\"colorbar\": {\"outlinewidth\": 0, \"ticks\": \"\"}, \"colorscale\": [[0.0, \"#0d0887\"], [0.1111111111111111, \"#46039f\"], [0.2222222222222222, \"#7201a8\"], [0.3333333333333333, \"#9c179e\"], [0.4444444444444444, \"#bd3786\"], [0.5555555555555556, \"#d8576b\"], [0.6666666666666666, \"#ed7953\"], [0.7777777777777778, \"#fb9f3a\"], [0.8888888888888888, \"#fdca26\"], [1.0, \"#f0f921\"]], \"type\": \"surface\"}], \"table\": [{\"cells\": {\"fill\": {\"color\": \"#EBF0F8\"}, \"line\": {\"color\": \"white\"}}, \"header\": {\"fill\": {\"color\": \"#C8D4E3\"}, \"line\": {\"color\": \"white\"}}, \"type\": \"table\"}]}, \"layout\": {\"annotationdefaults\": {\"arrowcolor\": \"#2a3f5f\", \"arrowhead\": 0, \"arrowwidth\": 1}, \"coloraxis\": {\"colorbar\": {\"outlinewidth\": 0, \"ticks\": \"\"}}, \"colorscale\": {\"diverging\": [[0, \"#8e0152\"], [0.1, \"#c51b7d\"], [0.2, \"#de77ae\"], [0.3, \"#f1b6da\"], [0.4, \"#fde0ef\"], [0.5, \"#f7f7f7\"], [0.6, \"#e6f5d0\"], [0.7, \"#b8e186\"], [0.8, \"#7fbc41\"], [0.9, \"#4d9221\"], [1, \"#276419\"]], \"sequential\": [[0.0, \"#0d0887\"], [0.1111111111111111, \"#46039f\"], [0.2222222222222222, \"#7201a8\"], [0.3333333333333333, \"#9c179e\"], [0.4444444444444444, \"#bd3786\"], [0.5555555555555556, \"#d8576b\"], [0.6666666666666666, \"#ed7953\"], [0.7777777777777778, \"#fb9f3a\"], [0.8888888888888888, \"#fdca26\"], [1.0, \"#f0f921\"]], \"sequentialminus\": [[0.0, \"#0d0887\"], [0.1111111111111111, \"#46039f\"], [0.2222222222222222, \"#7201a8\"], [0.3333333333333333, \"#9c179e\"], [0.4444444444444444, \"#bd3786\"], [0.5555555555555556, \"#d8576b\"], [0.6666666666666666, \"#ed7953\"], [0.7777777777777778, \"#fb9f3a\"], [0.8888888888888888, \"#fdca26\"], [1.0, \"#f0f921\"]]}, \"colorway\": [\"#636efa\", \"#EF553B\", \"#00cc96\", \"#ab63fa\", \"#FFA15A\", \"#19d3f3\", \"#FF6692\", \"#B6E880\", \"#FF97FF\", \"#FECB52\"], \"font\": {\"color\": \"#2a3f5f\"}, \"geo\": {\"bgcolor\": \"white\", \"lakecolor\": \"white\", \"landcolor\": \"#E5ECF6\", \"showlakes\": true, \"showland\": true, \"subunitcolor\": \"white\"}, \"hoverlabel\": {\"align\": \"left\"}, \"hovermode\": \"closest\", \"mapbox\": {\"style\": \"light\"}, \"paper_bgcolor\": \"white\", \"plot_bgcolor\": \"#E5ECF6\", \"polar\": {\"angularaxis\": {\"gridcolor\": \"white\", \"linecolor\": \"white\", \"ticks\": \"\"}, \"bgcolor\": \"#E5ECF6\", \"radialaxis\": {\"gridcolor\": \"white\", \"linecolor\": \"white\", \"ticks\": \"\"}}, \"scene\": {\"xaxis\": {\"backgroundcolor\": \"#E5ECF6\", \"gridcolor\": \"white\", \"gridwidth\": 2, \"linecolor\": \"white\", \"showbackground\": true, \"ticks\": \"\", \"zerolinecolor\": \"white\"}, \"yaxis\": {\"backgroundcolor\": \"#E5ECF6\", \"gridcolor\": \"white\", \"gridwidth\": 2, \"linecolor\": \"white\", \"showbackground\": true, \"ticks\": \"\", \"zerolinecolor\": \"white\"}, \"zaxis\": {\"backgroundcolor\": \"#E5ECF6\", \"gridcolor\": \"white\", \"gridwidth\": 2, \"linecolor\": \"white\", \"showbackground\": true, \"ticks\": \"\", \"zerolinecolor\": \"white\"}}, \"shapedefaults\": {\"line\": {\"color\": \"#2a3f5f\"}}, \"ternary\": {\"aaxis\": {\"gridcolor\": \"white\", \"linecolor\": \"white\", \"ticks\": \"\"}, \"baxis\": {\"gridcolor\": \"white\", \"linecolor\": \"white\", \"ticks\": \"\"}, \"bgcolor\": \"#E5ECF6\", \"caxis\": {\"gridcolor\": \"white\", \"linecolor\": \"white\", \"ticks\": \"\"}}, \"title\": {\"x\": 0.05}, \"xaxis\": {\"automargin\": true, \"gridcolor\": \"white\", \"linecolor\": \"white\", \"ticks\": \"\", \"title\": {\"standoff\": 15}, \"zerolinecolor\": \"white\", \"zerolinewidth\": 2}, \"yaxis\": {\"automargin\": true, \"gridcolor\": \"white\", \"linecolor\": \"white\", \"ticks\": \"\", \"title\": {\"standoff\": 15}, \"zerolinecolor\": \"white\", \"zerolinewidth\": 2}}}},                        {\"responsive\": true}                    ).then(function(){\n",
       "                            \n",
       "var gd = document.getElementById('0d2fda6b-695e-431b-addb-5864adc53964');\n",
       "var x = new MutationObserver(function (mutations, observer) {{\n",
       "        var display = window.getComputedStyle(gd).display;\n",
       "        if (!display || display === 'none') {{\n",
       "            console.log([gd, 'removed!']);\n",
       "            Plotly.purge(gd);\n",
       "            observer.disconnect();\n",
       "        }}\n",
       "}});\n",
       "\n",
       "// Listen for the removal of the full notebook cells\n",
       "var notebookContainer = gd.closest('#notebook-container');\n",
       "if (notebookContainer) {{\n",
       "    x.observe(notebookContainer, {childList: true});\n",
       "}}\n",
       "\n",
       "// Listen for the clearing of the current output cell\n",
       "var outputEl = gd.closest('.output');\n",
       "if (outputEl) {{\n",
       "    x.observe(outputEl, {childList: true});\n",
       "}}\n",
       "\n",
       "                        })                };                });            </script>        </div>"
      ]
     },
     "metadata": {},
     "output_type": "display_data"
    }
   ],
   "source": [
    "mapa.show()"
   ]
  },
  {
   "cell_type": "code",
   "execution_count": 8,
   "metadata": {},
   "outputs": [
    {
     "data": {
      "text/html": [
       "<div>\n",
       "<style scoped>\n",
       "    .dataframe tbody tr th:only-of-type {\n",
       "        vertical-align: middle;\n",
       "    }\n",
       "\n",
       "    .dataframe tbody tr th {\n",
       "        vertical-align: top;\n",
       "    }\n",
       "\n",
       "    .dataframe thead th {\n",
       "        text-align: right;\n",
       "    }\n",
       "</style>\n",
       "<table border=\"1\" class=\"dataframe\">\n",
       "  <thead>\n",
       "    <tr style=\"text-align: right;\">\n",
       "      <th></th>\n",
       "      <th>Area id</th>\n",
       "      <th>Sources (buses)</th>\n",
       "      <th>Centroid</th>\n",
       "    </tr>\n",
       "  </thead>\n",
       "  <tbody>\n",
       "    <tr>\n",
       "      <th>0</th>\n",
       "      <td>1</td>\n",
       "      <td>3001</td>\n",
       "      <td>3001</td>\n",
       "    </tr>\n",
       "    <tr>\n",
       "      <th>1</th>\n",
       "      <td>2</td>\n",
       "      <td>647,749,787,969,980,1370,1374,1407,1416,1445,1608</td>\n",
       "      <td>1608</td>\n",
       "    </tr>\n",
       "    <tr>\n",
       "      <th>2</th>\n",
       "      <td>3</td>\n",
       "      <td>620,640,686,755,778,797,1066,1368,1398,1401,14...</td>\n",
       "      <td>1368</td>\n",
       "    </tr>\n",
       "    <tr>\n",
       "      <th>3</th>\n",
       "      <td>4</td>\n",
       "      <td>682,684,859,881,960,1030,1126,1434</td>\n",
       "      <td>682</td>\n",
       "    </tr>\n",
       "    <tr>\n",
       "      <th>4</th>\n",
       "      <td>5</td>\n",
       "      <td>1391</td>\n",
       "      <td>1391</td>\n",
       "    </tr>\n",
       "    <tr>\n",
       "      <th>5</th>\n",
       "      <td>6</td>\n",
       "      <td>634,714,726,734,777,781,790,874,877,886,915,96...</td>\n",
       "      <td>1399</td>\n",
       "    </tr>\n",
       "    <tr>\n",
       "      <th>6</th>\n",
       "      <td>7</td>\n",
       "      <td>673,762,767,873,891,931,936,984,1013,1069,1071...</td>\n",
       "      <td>984</td>\n",
       "    </tr>\n",
       "    <tr>\n",
       "      <th>7</th>\n",
       "      <td>8</td>\n",
       "      <td>623,742,899,973,1000,1413,1418,1427,1475</td>\n",
       "      <td>1427</td>\n",
       "    </tr>\n",
       "    <tr>\n",
       "      <th>8</th>\n",
       "      <td>9</td>\n",
       "      <td>601,774,792,847,945,964,998,1009,1055,1132,140...</td>\n",
       "      <td>1431</td>\n",
       "    </tr>\n",
       "    <tr>\n",
       "      <th>9</th>\n",
       "      <td>10</td>\n",
       "      <td>826,843,892,953,985,1364,1406,1436</td>\n",
       "      <td>826</td>\n",
       "    </tr>\n",
       "  </tbody>\n",
       "</table>\n",
       "</div>"
      ],
      "text/plain": [
       "   Area id                                    Sources (buses) Centroid\n",
       "0        1                                               3001     3001\n",
       "1        2  647,749,787,969,980,1370,1374,1407,1416,1445,1608     1608\n",
       "2        3  620,640,686,755,778,797,1066,1368,1398,1401,14...     1368\n",
       "3        4                 682,684,859,881,960,1030,1126,1434      682\n",
       "4        5                                               1391     1391\n",
       "5        6  634,714,726,734,777,781,790,874,877,886,915,96...     1399\n",
       "6        7  673,762,767,873,891,931,936,984,1013,1069,1071...      984\n",
       "7        8           623,742,899,973,1000,1413,1418,1427,1475     1427\n",
       "8        9  601,774,792,847,945,964,998,1009,1055,1132,140...     1431\n",
       "9       10                 826,843,892,953,985,1364,1406,1436      826"
      ]
     },
     "execution_count": 8,
     "metadata": {},
     "output_type": "execute_result"
    }
   ],
   "source": [
    "tabla # la tabla"
   ]
  },
  {
   "cell_type": "code",
   "execution_count": null,
   "metadata": {},
   "outputs": [],
   "source": []
  }
 ],
 "metadata": {
  "kernelspec": {
   "display_name": "Python 3",
   "language": "python",
   "name": "python3"
  },
  "language_info": {
   "codemirror_mode": {
    "name": "ipython",
    "version": 3
   },
   "file_extension": ".py",
   "mimetype": "text/x-python",
   "name": "python",
   "nbconvert_exporter": "python",
   "pygments_lexer": "ipython3",
   "version": "3.8.5"
  }
 },
 "nbformat": 4,
 "nbformat_minor": 4
}
